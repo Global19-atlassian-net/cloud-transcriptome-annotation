{
 "cells": [
  {
   "cell_type": "markdown",
   "metadata": {},
   "source": [
    "### Loading packages from config/init.py"
   ]
  },
  {
   "cell_type": "code",
   "execution_count": 1,
   "metadata": {},
   "outputs": [],
   "source": [
    "%run ../config/init.py"
   ]
  },
  {
   "cell_type": "markdown",
   "metadata": {},
   "source": [
    "### Defining variables"
   ]
  },
  {
   "cell_type": "code",
   "execution_count": 2,
   "metadata": {},
   "outputs": [],
   "source": [
    "QUERY_SIZES = [2000, 6000, 10000]\n",
    "NO_FILES = 20\n",
    "TRANSCRIPTOME_FILE = os.path.join(DATA, DATASET, 'transcriptome.fasta.gz')"
   ]
  },
  {
   "cell_type": "markdown",
   "metadata": {},
   "source": [
    "### Creating 20 FASTA files for the different query sizes"
   ]
  },
  {
   "cell_type": "code",
   "execution_count": 3,
   "metadata": {},
   "outputs": [],
   "source": [
    "result_dir = os.path.join(RESULTS, DATASET)\n",
    "if not os.path.exists(result_dir):\n",
    "    os.mkdir(result_dir) \n",
    "os.chdir(result_dir)"
   ]
  },
  {
   "cell_type": "code",
   "execution_count": 4,
   "metadata": {},
   "outputs": [
    {
     "name": "stdout",
     "output_type": "stream",
     "text": [
      "2000_1.fa transcripts: 2000 Total: 1\n",
      "2000_2.fa transcripts: 2000 Total: 2\n",
      "2000_3.fa transcripts: 2000 Total: 3\n",
      "2000_4.fa transcripts: 2000 Total: 4\n",
      "2000_5.fa transcripts: 2000 Total: 5\n",
      "2000_6.fa transcripts: 2000 Total: 6\n",
      "2000_7.fa transcripts: 2000 Total: 7\n",
      "2000_8.fa transcripts: 2000 Total: 8\n",
      "2000_9.fa transcripts: 2000 Total: 9\n",
      "2000_10.fa transcripts: 2000 Total: 10\n",
      "2000_11.fa transcripts: 2000 Total: 11\n",
      "2000_12.fa transcripts: 2000 Total: 12\n",
      "2000_13.fa transcripts: 2000 Total: 13\n",
      "2000_14.fa transcripts: 2000 Total: 14\n",
      "2000_15.fa transcripts: 2000 Total: 15\n",
      "2000_16.fa transcripts: 2000 Total: 16\n",
      "2000_17.fa transcripts: 2000 Total: 17\n",
      "2000_18.fa transcripts: 2000 Total: 18\n",
      "2000_19.fa transcripts: 2000 Total: 19\n",
      "2000_20.fa transcripts: 2000 Total: 20\n",
      "6000_1.fa transcripts: 6000 Total: 1\n",
      "6000_2.fa transcripts: 6000 Total: 2\n",
      "6000_3.fa transcripts: 6000 Total: 3\n",
      "6000_4.fa transcripts: 6000 Total: 4\n",
      "6000_5.fa transcripts: 6000 Total: 5\n",
      "6000_6.fa transcripts: 6000 Total: 6\n",
      "6000_7.fa transcripts: 6000 Total: 7\n",
      "6000_8.fa transcripts: 6000 Total: 8\n",
      "6000_9.fa transcripts: 6000 Total: 9\n",
      "6000_10.fa transcripts: 6000 Total: 10\n",
      "6000_11.fa transcripts: 6000 Total: 11\n",
      "6000_12.fa transcripts: 6000 Total: 12\n",
      "6000_13.fa transcripts: 6000 Total: 13\n",
      "6000_14.fa transcripts: 6000 Total: 14\n",
      "6000_15.fa transcripts: 6000 Total: 15\n",
      "6000_16.fa transcripts: 6000 Total: 16\n",
      "6000_17.fa transcripts: 6000 Total: 17\n",
      "6000_18.fa transcripts: 6000 Total: 18\n",
      "6000_19.fa transcripts: 6000 Total: 19\n",
      "6000_20.fa transcripts: 6000 Total: 20\n",
      "10000_1.fa transcripts: 10000 Total: 1\n",
      "10000_2.fa transcripts: 10000 Total: 2\n",
      "10000_3.fa transcripts: 10000 Total: 3\n",
      "10000_4.fa transcripts: 10000 Total: 4\n",
      "10000_5.fa transcripts: 10000 Total: 5\n",
      "10000_6.fa transcripts: 10000 Total: 6\n",
      "10000_7.fa transcripts: 10000 Total: 7\n",
      "10000_8.fa transcripts: 10000 Total: 8\n",
      "10000_9.fa transcripts: 10000 Total: 9\n",
      "10000_10.fa transcripts: 10000 Total: 10\n",
      "10000_11.fa transcripts: 10000 Total: 11\n",
      "10000_12.fa transcripts: 10000 Total: 12\n",
      "10000_13.fa transcripts: 10000 Total: 13\n",
      "10000_14.fa transcripts: 10000 Total: 14\n",
      "10000_15.fa transcripts: 10000 Total: 15\n",
      "10000_16.fa transcripts: 10000 Total: 16\n",
      "10000_17.fa transcripts: 10000 Total: 17\n",
      "10000_18.fa transcripts: 10000 Total: 18\n",
      "10000_19.fa transcripts: 10000 Total: 19\n",
      "10000_20.fa transcripts: 10000 Total: 20\n"
     ]
    }
   ],
   "source": [
    "\n",
    "for q in QUERY_SIZES:\n",
    "    if not os.path.exists(os.path.join(str(q), 'fasta')):\n",
    "        os.makedirs(os.path.join(str(q), 'fasta'))\n",
    "    os.chdir(os.path.join(str(q), 'fasta'))\n",
    "    \n",
    "    total = 0\n",
    "    count = 0\n",
    "    with gzip.open(TRANSCRIPTOME_FILE, \"rt\") as handle:\n",
    "        output_handle = open(str(q) + '_' + str(total + 1) + '.fa', \"w\")\n",
    "        for record in SeqIO.parse(handle, \"fasta\"): \n",
    "            if count == q:\n",
    "                total += 1\n",
    "                print('{0} transcripts: {1} Total: {2}'.format(output_handle.name, count, total))\n",
    "                count = 0\n",
    "                output_handle.close()\n",
    "                if total == NO_FILES:\n",
    "                    break\n",
    "                output_handle = open(str(q) + '_' + str(total + 1) + '.fa', \"w\")\n",
    "            count += 1    \n",
    "            SeqIO.write(record, output_handle, \"fasta\")\n",
    "    \n",
    "    os.chdir(result_dir)"
   ]
  },
  {
   "cell_type": "code",
   "execution_count": null,
   "metadata": {},
   "outputs": [],
   "source": []
  }
 ],
 "metadata": {
  "kernelspec": {
   "display_name": "Python 3",
   "language": "python",
   "name": "python3"
  },
  "language_info": {
   "codemirror_mode": {
    "name": "ipython",
    "version": 3
   },
   "file_extension": ".py",
   "mimetype": "text/x-python",
   "name": "python",
   "nbconvert_exporter": "python",
   "pygments_lexer": "ipython3",
   "version": "3.7.6"
  }
 },
 "nbformat": 4,
 "nbformat_minor": 4
}
