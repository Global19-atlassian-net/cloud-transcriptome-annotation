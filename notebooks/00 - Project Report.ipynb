{
 "cells": [
  {
   "cell_type": "markdown",
   "metadata": {},
   "source": [
    "# Project Report\n",
    " \n",
    "__Project Name__: cloud-transcriptome-annotation  \n",
    "__Dataset Name__: PRJNA320545  \n",
    "__Author__: Roberto Vera Alvarez  \n",
    "__Email__: veraalva@ncbi.nlm.nih.gov  \n",
    "__Dataset__: PRJNA320545  \n",
    "__Created Date__: 02/03/2020  \n",
    "\n",
    "## Outline\n",
    "\n",
    "\n",
    "This is a transcriptome annotation workflow from a FASTA transcriptome\n",
    "\n",
    "\n",
    "Our workflow is based on a set of Jupyter Notebooks and [CWL workflows](https://github.com/ncbi/cwl-ngs-workflows-cbb). \n",
    "The workflows excuted the analysis using the following tools: \n",
    "\n",
    "\n",
    " * Work in progress\n",
    " \n",
    "\n",
    "\n",
    "### Workflow  steps\n",
    "\n",
    "\n",
    "\n",
    " \n",
    "### Requirements\n",
    "\n",
    " 1. Python 3.6+\n",
    "    - numpy\n",
    "    - scipy\n",
    "    - pandas\n",
    "    - seaborn\n",
    "    - matplotlib\n",
    "    - jupyter\n",
    "    - cwltool\n",
    "    - jupyterngsplugin\n",
    "\n",
    " 2. CWL Tools definition files: [cwl-workflow](https://github.com/ncbi/cwl-ngs-workflows-cbb)       "
   ]
  },
  {
   "cell_type": "code",
   "execution_count": null,
   "metadata": {
    "pycharm": {
     "name": "#%%\n"
    }
   },
   "outputs": [],
   "source": [
    "%run ../config/init.py\n",
    "\n",
    "\n",
    "from jupyterngsplugin.markdown.utils import hide_code_str\n",
    "from jupyterngsplugin.utils.notebook import save_2_html\n",
    "HTML(hide_code_str())\n",
    "\n",
    "\n",
    "\n",
    "\n"
   ]
  },
  {
   "cell_type": "code",
   "execution_count": null,
   "metadata": {
    "pycharm": {
     "name": "#%%\n"
    }
   },
   "outputs": [],
   "source": [
    "os.chdir(NOTEBOOKS)\n",
    "save_2_html(\"00 - Project Report.ipynb\")"
   ]
  }
 ],
 "metadata": {
  "kernelspec": {
   "display_name": "Python 3",
   "language": "python",
   "name": "python3"
  },
  "language_info": {
   "codemirror_mode": {
    "name": "ipython",
    "version": 3
   },
   "file_extension": ".py",
   "mimetype": "text/x-python",
   "name": "python",
   "nbconvert_exporter": "python",
   "pygments_lexer": "ipython3",
   "version": "3.7.6"
  },
  "pycharm": {
   "stem_cell": {
    "cell_type": "raw",
    "metadata": {
     "collapsed": false
    },
    "source": []
   }
  }
 },
 "nbformat": 4,
 "nbformat_minor": 2
}
