{
 "cells": [
  {
   "cell_type": "code",
   "execution_count": 1,
   "metadata": {},
   "outputs": [],
   "source": [
    "%run ../config/init.py\n",
    "PIPELINE_JSON = os.path.join(CONFIG, 'gcp', 'pipeline.json')"
   ]
  },
  {
   "cell_type": "code",
   "execution_count": 2,
   "metadata": {
    "scrolled": false
   },
   "outputs": [
    {
     "name": "stdout",
     "output_type": "stream",
     "text": [
      "{\n",
      "  \"actions\": [\n",
      "    {\n",
      "      \"commands\": [\n",
      "        \"/bin/sh\",\n",
      "        \"-c\",\n",
      "        \"mkdir -v /data/${SAMPLE}_${N}_${CPUs} > /data/pipeline.log 2>&1\"\n",
      "      ],\n",
      "      \"imageUri\": \"google/cloud-sdk:slim\",\n",
      "      \"mounts\": [\n",
      "        {\n",
      "          \"disk\": \"gcloud-shared\",\n",
      "          \"path\": \"/data\"\n",
      "        }\n",
      "      ]\n",
      "    },\n",
      "    {\n",
      "      \"commands\": [\n",
      "        \"/bin/sh\",\n",
      "        \"-c\",\n",
      "        \"gsutil cp gs://cbb-research-dl-blastdb/BOTO_CONFIG /data/.boto >> /data/pipeline.log 2>&1\"\n",
      "      ],\n",
      "      \"imageUri\": \"google/cloud-sdk:slim\",\n",
      "      \"mounts\": [\n",
      "        {\n",
      "          \"disk\": \"gcloud-shared\",\n",
      "          \"path\": \"/data\"\n",
      "        }\n",
      "      ]\n",
      "    },\n",
      "    {\n",
      "      \"commands\": [\n",
      "        \"/bin/sh\",\n",
      "        \"-c\",\n",
      "        \"gsutil -m -o 'GSUtil:parallel_composite_upload_threshold=150M' -o 'GSUtil:parallel_process_count=16' -o 'GSUtil:parallel_thread_count=16' cp gs://cbb-research-dl-blastdb/* /data/ >> /data/pipeline.log 2>&1\"\n",
      "      ],\n",
      "      \"imageUri\": \"google/cloud-sdk:slim\",\n",
      "      \"mounts\": [\n",
      "        {\n",
      "          \"disk\": \"gcloud-shared\",\n",
      "          \"path\": \"/data\"\n",
      "        }\n",
      "      ]\n",
      "    },\n",
      "    {\n",
      "      \"commands\": [\n",
      "        \"/bin/sh\",\n",
      "        \"-c\",\n",
      "        \"gsutil -m -q cp gs://${INBUCKET}/${SAMPLE}.fa /data/ >> /data/pipeline.log 2>&1\"\n",
      "      ],\n",
      "      \"imageUri\": \"google/cloud-sdk:slim\",\n",
      "      \"mounts\": [\n",
      "        {\n",
      "          \"disk\": \"gcloud-shared\",\n",
      "          \"path\": \"/data\"\n",
      "        }\n",
      "      ]\n",
      "    },\n",
      "    {\n",
      "      \"commands\": [\n",
      "        \"/bin/bash\",\n",
      "        \"-c\",\n",
      "        \"cwltool --no-container --on-error continue --tmpdir-prefix /data/ --tmp-outdir-prefix /data/ --outdir /data/${SAMPLE}_${N}_${CPUs} https://raw.githubusercontent.com/ncbi/cwl-ngs-workflows-cbb/develop/workflows/Annotation/transcriptome_annotation.cwl --blast_db_dir /data --threads ${CPUs} --evalue 1e-5 --blast_nt_db nt --blast_nr_db nr --blast_cdd_db split-cdd --fasta /data/${SAMPLE}.fa >> /data/pipeline.log 2>&1\"\n",
      "      ],\n",
      "      \"imageUri\": \"gcr.io/cbb-research-dl/transannot\",\n",
      "      \"mounts\": [\n",
      "        {\n",
      "          \"disk\": \"gcloud-shared\",\n",
      "          \"path\": \"/data\"\n",
      "        }\n",
      "      ]\n",
      "    },\n",
      "    {\n",
      "      \"commands\": [\n",
      "        \"/bin/sh\",\n",
      "        \"-c\",\n",
      "        \"gsutil -m -o 'GSUtil:parallel_composite_upload_threshold=150M' cp -R /data/${SAMPLE}_${N}_${CPUs} gs://${OUTBUCKET}/ >> /data/pipeline.log 2>&1\"\n",
      "      ],\n",
      "      \"imageUri\": \"google/cloud-sdk:slim\",\n",
      "      \"mounts\": [\n",
      "        {\n",
      "          \"disk\": \"gcloud-shared\",\n",
      "          \"path\": \"/data\"\n",
      "        }\n",
      "      ],\n",
      "      \"alwaysRun\": true\n",
      "    },\n",
      "    {\n",
      "      \"commands\": [\n",
      "        \"/bin/sh\",\n",
      "        \"-c\",\n",
      "        \"gsutil cp /data/pipeline.log gs://${OUTBUCKET}/${SAMPLE}_${N}_${CPUs}/\"\n",
      "      ],\n",
      "      \"imageUri\": \"google/cloud-sdk:slim\",\n",
      "      \"mounts\": [\n",
      "        {\n",
      "          \"disk\": \"gcloud-shared\",\n",
      "          \"path\": \"/data\"\n",
      "        }\n",
      "      ],\n",
      "      \"alwaysRun\": true\n",
      "    }\n",
      "  ],\n",
      "  \"environment\": {\n",
      "    \"BOTO_PATH\": \"/data/.boto\"\n",
      "  },\n",
      "  \"resources\": {\n",
      "    \"virtualMachine\": {\n",
      "      \"bootDiskSizeGb\": 60,\n",
      "      \"bootImage\": \"projects/cos-cloud/global/images/family/cos-stable\",\n",
      "      \"disks\": [\n",
      "        {\n",
      "          \"name\": \"gcloud-shared\",\n",
      "          \"sizeGb\": 3000,\n",
      "          \"type\": \"local-ssd\"\n",
      "        }\n",
      "      ],\n",
      "      \"machineType\": \"n1-standard-64\",\n",
      "      \"preemptible\": false,\n",
      "      \"serviceAccount\": {\n",
      "        \"email\": \"default\",\n",
      "        \"scopes\": [\n",
      "          \"https://www.googleapis.com/auth/cloud-platform\"\n",
      "        ]\n",
      "      }\n",
      "    },\n",
      "    \"zones\": [\n",
      "      \"us-east1-c\"\n",
      "    ]\n",
      "  }\n",
      "}\n"
     ]
    }
   ],
   "source": [
    "with open(PIPELINE_JSON) as fin:\n",
    "    pipeline = json.load(fin)\n",
    "print(json.dumps(pipeline, indent=2))"
   ]
  },
  {
   "cell_type": "code",
   "execution_count": 26,
   "metadata": {},
   "outputs": [
    {
     "name": "stdout",
     "output_type": "stream",
     "text": [
      "{\n",
      "  \"bootDiskSizeGb\": 60,\n",
      "  \"bootImage\": \"projects/cos-cloud/global/images/family/cos-stable\",\n",
      "  \"disks\": [\n",
      "    {\n",
      "      \"name\": \"gcloud-shared\",\n",
      "      \"sizeGb\": \"1500\",\n",
      "      \"type\": \"local-ssd\"\n",
      "    }\n",
      "  ],\n",
      "  \"machineType\": \"n1-standard-64\",\n",
      "  \"preemptible\": false,\n",
      "  \"serviceAccount\": {\n",
      "    \"email\": \"default\",\n",
      "    \"scopes\": [\n",
      "      \"https://www.googleapis.com/auth/cloud-platform\"\n",
      "    ]\n",
      "  }\n",
      "}\n"
     ]
    }
   ],
   "source": [
    "pipeline['resources']['virtualMachine']['machineType'] = 'n1-standard-64'\n",
    "print(json.dumps(pipeline['resources']['virtualMachine'], indent=2))"
   ]
  },
  {
   "cell_type": "code",
   "execution_count": 8,
   "metadata": {},
   "outputs": [],
   "source": [
    "with open('pipeline.json', 'w') as f:\n",
    "        f.write(json.dumps(pipeline, indent=2))"
   ]
  },
  {
   "cell_type": "code",
   "execution_count": 7,
   "metadata": {},
   "outputs": [],
   "source": [
    "with gzip.GzipFile('pipeline.json.gz', 'w') as fout:   # 4. gzip\n",
    "    fout.write(json.dumps(pipeline, indent=2).encode('utf-8'))                  "
   ]
  },
  {
   "cell_type": "code",
   "execution_count": 4,
   "metadata": {},
   "outputs": [
    {
     "name": "stdout",
     "output_type": "stream",
     "text": [
      "/panfs/pan1.be-md.ncbi.nlm.nih.gov/alt_splicing/cloud-transcriptome-annotation/notebooks\r\n"
     ]
    }
   ],
   "source": [
    "!pwd"
   ]
  },
  {
   "cell_type": "code",
   "execution_count": 11,
   "metadata": {},
   "outputs": [],
   "source": [
    "with gzip.GzipFile('pipeline.json.gz', 'r') as fin:    # 4. gzip\n",
    "    json_bytes = fin.read()\n",
    "    l = json.loads(json_bytes.decode('utf-8'))"
   ]
  },
  {
   "cell_type": "code",
   "execution_count": 12,
   "metadata": {},
   "outputs": [
    {
     "data": {
      "text/plain": [
       "{'actions': [{'commands': ['/bin/sh',\n",
       "    '-c',\n",
       "    'mkdir -v /data/${SAMPLE}_${N}_${CPUs} > /data/pipeline.log 2>&1'],\n",
       "   'imageUri': 'google/cloud-sdk:slim',\n",
       "   'mounts': [{'disk': 'gcloud-shared', 'path': '/data'}]},\n",
       "  {'commands': ['/bin/sh',\n",
       "    '-c',\n",
       "    'gsutil cp gs://cbb-research-dl-blastdb/BOTO_CONFIG /data/.boto >> /data/pipeline.log 2>&1'],\n",
       "   'imageUri': 'google/cloud-sdk:slim',\n",
       "   'mounts': [{'disk': 'gcloud-shared', 'path': '/data'}]},\n",
       "  {'commands': ['/bin/sh',\n",
       "    '-c',\n",
       "    \"gsutil -m -o 'GSUtil:parallel_composite_upload_threshold=150M' -o 'GSUtil:parallel_process_count=16' -o 'GSUtil:parallel_thread_count=16' cp gs://cbb-research-dl-blastdb/* /data/ >> /data/pipeline.log 2>&1\"],\n",
       "   'imageUri': 'google/cloud-sdk:slim',\n",
       "   'mounts': [{'disk': 'gcloud-shared', 'path': '/data'}]},\n",
       "  {'commands': ['/bin/sh',\n",
       "    '-c',\n",
       "    'gsutil -m -q cp gs://${INBUCKET}/${SAMPLE}.fa /data/ >> /data/pipeline.log 2>&1'],\n",
       "   'imageUri': 'google/cloud-sdk:slim',\n",
       "   'mounts': [{'disk': 'gcloud-shared', 'path': '/data'}]},\n",
       "  {'commands': ['/bin/bash',\n",
       "    '-c',\n",
       "    'cwltool --no-container --on-error continue --tmpdir-prefix /data/ --tmp-outdir-prefix /data/ --outdir /data/${SAMPLE}_${N}_${CPUs} https://raw.githubusercontent.com/ncbi/cwl-ngs-workflows-cbb/develop/workflows/Annotation/transcriptome_annotation.cwl --blast_db_dir /data --threads ${CPUs} --evalue 1e-5 --blast_nt_db nt --blast_nr_db nr --blast_cdd_db split-cdd --fasta /data/${SAMPLE}.fa >> /data/pipeline.log 2>&1'],\n",
       "   'imageUri': 'gcr.io/cbb-research-dl/transannot',\n",
       "   'mounts': [{'disk': 'gcloud-shared', 'path': '/data'}]},\n",
       "  {'commands': ['/bin/sh',\n",
       "    '-c',\n",
       "    \"gsutil -m -o 'GSUtil:parallel_composite_upload_threshold=150M' cp -R /data/${SAMPLE}_${N}_${CPUs} gs://${OUTBUCKET}/ >> /data/pipeline.log 2>&1\"],\n",
       "   'imageUri': 'google/cloud-sdk:slim',\n",
       "   'mounts': [{'disk': 'gcloud-shared', 'path': '/data'}],\n",
       "   'alwaysRun': True},\n",
       "  {'commands': ['/bin/sh',\n",
       "    '-c',\n",
       "    'gsutil cp /data/pipeline.log gs://${OUTBUCKET}/${SAMPLE}_${N}_${CPUs}/'],\n",
       "   'imageUri': 'google/cloud-sdk:slim',\n",
       "   'mounts': [{'disk': 'gcloud-shared', 'path': '/data'}],\n",
       "   'alwaysRun': True}],\n",
       " 'environment': {'BOTO_PATH': '/data/.boto'},\n",
       " 'resources': {'virtualMachine': {'bootDiskSizeGb': 60,\n",
       "   'bootImage': 'projects/cos-cloud/global/images/family/cos-stable',\n",
       "   'disks': [{'name': 'gcloud-shared', 'sizeGb': 3000, 'type': 'local-ssd'}],\n",
       "   'machineType': 'n1-standard-64',\n",
       "   'preemptible': False,\n",
       "   'serviceAccount': {'email': 'default',\n",
       "    'scopes': ['https://www.googleapis.com/auth/cloud-platform']}},\n",
       "  'zones': ['us-east1-c']}}"
      ]
     },
     "execution_count": 12,
     "metadata": {},
     "output_type": "execute_result"
    }
   ],
   "source": [
    "l"
   ]
  },
  {
   "cell_type": "code",
   "execution_count": null,
   "metadata": {},
   "outputs": [],
   "source": []
  }
 ],
 "metadata": {
  "kernelspec": {
   "display_name": "Python 3",
   "language": "python",
   "name": "python3"
  },
  "language_info": {
   "codemirror_mode": {
    "name": "ipython",
    "version": 3
   },
   "file_extension": ".py",
   "mimetype": "text/x-python",
   "name": "python",
   "nbconvert_exporter": "python",
   "pygments_lexer": "ipython3",
   "version": "3.7.6"
  }
 },
 "nbformat": 4,
 "nbformat_minor": 4
}
