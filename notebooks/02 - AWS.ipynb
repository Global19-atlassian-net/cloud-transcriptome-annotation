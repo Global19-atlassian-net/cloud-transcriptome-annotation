{
 "cells": [
  {
   "cell_type": "markdown",
   "metadata": {},
   "source": []
  },
  {
   "cell_type": "markdown",
   "metadata": {},
   "source": [
    "### Loading packages from config/init.py"
   ]
  },
  {
   "cell_type": "code",
   "execution_count": 1,
   "metadata": {},
   "outputs": [],
   "source": [
    "%run ../config/init.py"
   ]
  },
  {
   "cell_type": "markdown",
   "metadata": {},
   "source": [
    "### Testing AWS-cli configuration"
   ]
  },
  {
   "cell_type": "code",
   "execution_count": 16,
   "metadata": {},
   "outputs": [
    {
     "name": "stdout",
     "output_type": "stream",
     "text": [
      "Using access_key: ........ZYMLD6V5WV\n"
     ]
    }
   ],
   "source": [
    "access_key = !aws configure get aws_access_key_id\n",
    "secret_access_key = !aws configure get aws_secret_access_key\n",
    "if access_key and secret_access_key:\n",
    "    print('Using access_key: ........{}'.format(access_key[0][10:]))\n",
    "else:\n",
    "    print('Please, configure AWS-cli before running this notebook')\n",
    "    print('Open a Terminal and run: aws configure')"
   ]
  },
  {
   "cell_type": "markdown",
   "metadata": {},
   "source": [
    "### Defining variables\n",
    "\n",
    "Edit AWS zone and region variable accordingly to your geographical location."
   ]
  },
  {
   "cell_type": "code",
   "execution_count": 18,
   "metadata": {},
   "outputs": [],
   "source": [
    "REGION = 'us-east-1'\n",
    "!aws configure set region {REGION}"
   ]
  },
  {
   "cell_type": "markdown",
   "metadata": {},
   "source": [
    "### Defining global Tags for identifying resources\n",
    "\n",
    "Associate AWS Tags with each resource created by this notebook helps to compile total cost used by AWS.\n",
    "The notebook will use, if exists, a file in the **CONFIG/aws** folder named: **aws-tags.json**"
   ]
  },
  {
   "cell_type": "code",
   "execution_count": 80,
   "metadata": {},
   "outputs": [
    {
     "name": "stdout",
     "output_type": "stream",
     "text": [
      "Using project tag: cbb-research-dl\n"
     ]
    }
   ],
   "source": [
    "TAGFILE_S3 = None\n",
    "TAGFILE = None\n",
    "TAGDIR = None\n",
    "if os.path.exists(os.path.join(CONFIG, \"aws\", \"aws-tags-s3.json\")):\n",
    "    TAGFILE_S3 = os.path.join(CONFIG, \"aws\", \"aws-tags-s3.json\")\n",
    "if os.path.exists(os.path.join(CONFIG, \"aws\", \"aws-tags.json\")):\n",
    "    TAGFILE = os.path.join(CONFIG, \"aws\", \"aws-tags.json\")\n",
    "    with open(TAGFILE) as fin:\n",
    "        TAGDICT = json.loads(fin.read())\n",
    "    PROJECT = None\n",
    "    for k in TAGDICT['Tags']:\n",
    "        if k['Key'] == 'Project':\n",
    "            PROJECT = k['Value']\n",
    "    if PROJECT:\n",
    "        print(\"Using project tag: {}\".format(PROJECT))"
   ]
  },
  {
   "cell_type": "markdown",
   "metadata": {},
   "source": [
    "### AWS machine types\n",
    "\n",
    "| Instance Size | vCPU | Memory (GiB) | Instance Storage (GiB) | Network Bandwidth (Gbps) | EBS Bandwidth (Mbps) | $/Hour |\n",
    "|---------|----------|----------|-------------|---------------|---------------|-----------|\n",
    "| m5d.4xlarge | 16 | 64 | 2 x 300 NVMe SSD | Up to 10 | 4,750 | 0.904 |\n",
    "| m5d.8xlarge | 32 | 128 | 2 x 600 NVMe SSD | 10 | 6,800 | 1.808 |\n",
    "| m5d.16xlarge | 64 | 256 | 4 x 600 NVMe SSD | 20 | 13,600 | 3.616 |\n",
    "| m5dn.4xlarge | 16 | 64 | 2 x 300 NVMe SSD | Up to 25 | 4,750 | 1.088 |\n",
    "| m5dn.8xlarge | 32 | 128 | 2 x 600 NVMe SSD | 25 | 6,800| 2.176 |\n",
    "| m5dn.16xlarge | 64 | 256 | 4 x 600 NVMe SSD | 75 | 13,600 | 4.352 |\n",
    "\n",
    "\n",
    " "
   ]
  },
  {
   "cell_type": "code",
   "execution_count": 19,
   "metadata": {},
   "outputs": [],
   "source": [
    "QUERY_SIZES = [2000, 6000, 10000]\n",
    "\n",
    "MACHINE_TYPES = ['m5d', 'm5dn']\n",
    "CPUs = [16, 32, 64]\n",
    "\n",
    "# Prices from 03/04/2020\n",
    "PRICE = {\n",
    "    'n1':{\n",
    "        16: 0.904,\n",
    "        32: 1.808,\n",
    "        64: 3.616\n",
    "    },\n",
    "    'n2':{\n",
    "        16: 1.088,\n",
    "        32: 2.176,\n",
    "        64: 4.352\n",
    "    }    \n",
    "}\n"
   ]
  },
  {
   "cell_type": "code",
   "execution_count": 21,
   "metadata": {},
   "outputs": [
    {
     "name": "stdout",
     "output_type": "stream",
     "text": [
      "Using as output directory: /panfs/pan1.be-md.ncbi.nlm.nih.gov/alt_splicing/cloud-transcriptome-annotation/results/PRJNA320545\n"
     ]
    }
   ],
   "source": [
    "result_dir = os.path.join(RESULTS, DATASET)\n",
    "if not os.path.exists(result_dir):\n",
    "    os.mkdir(result_dir) \n",
    "os.chdir(result_dir)\n",
    "print('Using as output directory: {}'.format(result_dir))"
   ]
  },
  {
   "cell_type": "markdown",
   "metadata": {},
   "source": [
    "### Create or retrieve AWS S3 storage bucket"
   ]
  },
  {
   "cell_type": "code",
   "execution_count": 47,
   "metadata": {},
   "outputs": [
    {
     "name": "stdout",
     "output_type": "stream",
     "text": [
      "make_bucket: nopal-2000-97f602dc-d34a-4f98-8d37-492abfb0d83a\n",
      "make_bucket: nopal-results-2000-97f602dc-d34a-4f98-8d37-492abfb0d83a\n",
      "upload: 2000/fasta/2000_12.fa to s3://nopal-2000-97f602dc-d34a-4f98-8d37-492abfb0d83a/2000_12.fa\n",
      "upload: 2000/fasta/2000_1.fa to s3://nopal-2000-97f602dc-d34a-4f98-8d37-492abfb0d83a/2000_1.fa\n",
      "upload: 2000/fasta/2000_11.fa to s3://nopal-2000-97f602dc-d34a-4f98-8d37-492abfb0d83a/2000_11.fa\n",
      "upload: 2000/fasta/2000_15.fa to s3://nopal-2000-97f602dc-d34a-4f98-8d37-492abfb0d83a/2000_15.fa\n",
      "upload: 2000/fasta/2000_13.fa to s3://nopal-2000-97f602dc-d34a-4f98-8d37-492abfb0d83a/2000_13.fa\n",
      "upload: 2000/fasta/2000_16.fa to s3://nopal-2000-97f602dc-d34a-4f98-8d37-492abfb0d83a/2000_16.fa\n",
      "upload: 2000/fasta/2000_14.fa to s3://nopal-2000-97f602dc-d34a-4f98-8d37-492abfb0d83a/2000_14.fa\n",
      "upload: 2000/fasta/2000_10.fa to s3://nopal-2000-97f602dc-d34a-4f98-8d37-492abfb0d83a/2000_10.fa\n",
      "upload: 2000/fasta/2000_17.fa to s3://nopal-2000-97f602dc-d34a-4f98-8d37-492abfb0d83a/2000_17.fa\n",
      "upload: 2000/fasta/2000_18.fa to s3://nopal-2000-97f602dc-d34a-4f98-8d37-492abfb0d83a/2000_18.fa\n",
      "upload: 2000/fasta/2000_19.fa to s3://nopal-2000-97f602dc-d34a-4f98-8d37-492abfb0d83a/2000_19.fa\n",
      "upload: 2000/fasta/2000_2.fa to s3://nopal-2000-97f602dc-d34a-4f98-8d37-492abfb0d83a/2000_2.fa\n",
      "upload: 2000/fasta/2000_5.fa to s3://nopal-2000-97f602dc-d34a-4f98-8d37-492abfb0d83a/2000_5.fa\n",
      "upload: 2000/fasta/2000_3.fa to s3://nopal-2000-97f602dc-d34a-4f98-8d37-492abfb0d83a/2000_3.fa\n",
      "upload: 2000/fasta/2000_4.fa to s3://nopal-2000-97f602dc-d34a-4f98-8d37-492abfb0d83a/2000_4.fa\n",
      "upload: 2000/fasta/2000_6.fa to s3://nopal-2000-97f602dc-d34a-4f98-8d37-492abfb0d83a/2000_6.fa\n",
      "upload: 2000/fasta/2000_8.fa to s3://nopal-2000-97f602dc-d34a-4f98-8d37-492abfb0d83a/2000_8.fa\n",
      "upload: 2000/fasta/2000_7.fa to s3://nopal-2000-97f602dc-d34a-4f98-8d37-492abfb0d83a/2000_7.fa\n",
      "upload: 2000/fasta/2000_20.fa to s3://nopal-2000-97f602dc-d34a-4f98-8d37-492abfb0d83a/2000_20.fa\n",
      "upload: 2000/fasta/2000_9.fa to s3://nopal-2000-97f602dc-d34a-4f98-8d37-492abfb0d83a/2000_9.fa\n",
      "make_bucket: nopal-6000-1c8b7e48-482e-4a7f-a02c-0710949d5fa9\n",
      "make_bucket: nopal-results-6000-1c8b7e48-482e-4a7f-a02c-0710949d5fa9\n",
      "upload: 6000/fasta/6000_13.fa to s3://nopal-6000-1c8b7e48-482e-4a7f-a02c-0710949d5fa9/6000_13.fa\n",
      "upload: 6000/fasta/6000_15.fa to s3://nopal-6000-1c8b7e48-482e-4a7f-a02c-0710949d5fa9/6000_15.fa\n",
      "upload: 6000/fasta/6000_16.fa to s3://nopal-6000-1c8b7e48-482e-4a7f-a02c-0710949d5fa9/6000_16.fa\n",
      "upload: 6000/fasta/6000_12.fa to s3://nopal-6000-1c8b7e48-482e-4a7f-a02c-0710949d5fa9/6000_12.fa\n",
      "upload: 6000/fasta/6000_17.fa to s3://nopal-6000-1c8b7e48-482e-4a7f-a02c-0710949d5fa9/6000_17.fa\n",
      "upload: 6000/fasta/6000_1.fa to s3://nopal-6000-1c8b7e48-482e-4a7f-a02c-0710949d5fa9/6000_1.fa\n",
      "upload: 6000/fasta/6000_18.fa to s3://nopal-6000-1c8b7e48-482e-4a7f-a02c-0710949d5fa9/6000_18.fa\n",
      "upload: 6000/fasta/6000_11.fa to s3://nopal-6000-1c8b7e48-482e-4a7f-a02c-0710949d5fa9/6000_11.fa\n",
      "upload: 6000/fasta/6000_10.fa to s3://nopal-6000-1c8b7e48-482e-4a7f-a02c-0710949d5fa9/6000_10.fa\n",
      "upload: 6000/fasta/6000_14.fa to s3://nopal-6000-1c8b7e48-482e-4a7f-a02c-0710949d5fa9/6000_14.fa\n",
      "upload: 6000/fasta/6000_19.fa to s3://nopal-6000-1c8b7e48-482e-4a7f-a02c-0710949d5fa9/6000_19.fa\n",
      "upload: 6000/fasta/6000_6.fa to s3://nopal-6000-1c8b7e48-482e-4a7f-a02c-0710949d5fa9/6000_6.fa\n",
      "upload: 6000/fasta/6000_20.fa to s3://nopal-6000-1c8b7e48-482e-4a7f-a02c-0710949d5fa9/6000_20.fa\n",
      "upload: 6000/fasta/6000_4.fa to s3://nopal-6000-1c8b7e48-482e-4a7f-a02c-0710949d5fa9/6000_4.fa\n",
      "upload: 6000/fasta/6000_7.fa to s3://nopal-6000-1c8b7e48-482e-4a7f-a02c-0710949d5fa9/6000_7.fa\n",
      "upload: 6000/fasta/6000_8.fa to s3://nopal-6000-1c8b7e48-482e-4a7f-a02c-0710949d5fa9/6000_8.fa\n",
      "upload: 6000/fasta/6000_9.fa to s3://nopal-6000-1c8b7e48-482e-4a7f-a02c-0710949d5fa9/6000_9.fa\n",
      "upload: 6000/fasta/6000_2.fa to s3://nopal-6000-1c8b7e48-482e-4a7f-a02c-0710949d5fa9/6000_2.fa\n",
      "upload: 6000/fasta/6000_5.fa to s3://nopal-6000-1c8b7e48-482e-4a7f-a02c-0710949d5fa9/6000_5.fa\n",
      "upload: 6000/fasta/6000_3.fa to s3://nopal-6000-1c8b7e48-482e-4a7f-a02c-0710949d5fa9/6000_3.fa\n",
      "make_bucket: nopal-10000-7328e20f-5713-465a-b394-5739a9d08698\n",
      "make_bucket: nopal-results-10000-7328e20f-5713-465a-b394-5739a9d08698\n",
      "upload: 10000/fasta/10000_18.fa to s3://nopal-10000-7328e20f-5713-465a-b394-5739a9d08698/10000_18.fa\n",
      "upload: 10000/fasta/10000_12.fa to s3://nopal-10000-7328e20f-5713-465a-b394-5739a9d08698/10000_12.fa\n",
      "upload: 10000/fasta/10000_16.fa to s3://nopal-10000-7328e20f-5713-465a-b394-5739a9d08698/10000_16.fa\n",
      "upload: 10000/fasta/10000_13.fa to s3://nopal-10000-7328e20f-5713-465a-b394-5739a9d08698/10000_13.fa\n",
      "upload: 10000/fasta/10000_15.fa to s3://nopal-10000-7328e20f-5713-465a-b394-5739a9d08698/10000_15.fa\n",
      "upload: 10000/fasta/10000_11.fa to s3://nopal-10000-7328e20f-5713-465a-b394-5739a9d08698/10000_11.fa\n",
      "upload: 10000/fasta/10000_19.fa to s3://nopal-10000-7328e20f-5713-465a-b394-5739a9d08698/10000_19.fa\n",
      "upload: 10000/fasta/10000_1.fa to s3://nopal-10000-7328e20f-5713-465a-b394-5739a9d08698/10000_1.fa\n",
      "upload: 10000/fasta/10000_14.fa to s3://nopal-10000-7328e20f-5713-465a-b394-5739a9d08698/10000_14.fa\n",
      "upload: 10000/fasta/10000_17.fa to s3://nopal-10000-7328e20f-5713-465a-b394-5739a9d08698/10000_17.fa\n",
      "upload: 10000/fasta/10000_10.fa to s3://nopal-10000-7328e20f-5713-465a-b394-5739a9d08698/10000_10.fa\n",
      "upload: 10000/fasta/10000_20.fa to s3://nopal-10000-7328e20f-5713-465a-b394-5739a9d08698/10000_20.fa\n",
      "upload: 10000/fasta/10000_2.fa to s3://nopal-10000-7328e20f-5713-465a-b394-5739a9d08698/10000_2.fa\n",
      "upload: 10000/fasta/10000_5.fa to s3://nopal-10000-7328e20f-5713-465a-b394-5739a9d08698/10000_5.fa\n",
      "upload: 10000/fasta/10000_4.fa to s3://nopal-10000-7328e20f-5713-465a-b394-5739a9d08698/10000_4.fa\n",
      "upload: 10000/fasta/10000_6.fa to s3://nopal-10000-7328e20f-5713-465a-b394-5739a9d08698/10000_6.fa\n",
      "upload: 10000/fasta/10000_3.fa to s3://nopal-10000-7328e20f-5713-465a-b394-5739a9d08698/10000_3.fa\n",
      "upload: 10000/fasta/10000_7.fa to s3://nopal-10000-7328e20f-5713-465a-b394-5739a9d08698/10000_7.fa\n",
      "upload: 10000/fasta/10000_9.fa to s3://nopal-10000-7328e20f-5713-465a-b394-5739a9d08698/10000_9.fa\n",
      "upload: 10000/fasta/10000_8.fa to s3://nopal-10000-7328e20f-5713-465a-b394-5739a9d08698/10000_8.fa\n",
      "Query size: 2000\n",
      "\tin-bucket: nopal_2000_97f602dc-d34a-4f98-8d37-492abfb0d83a\n",
      "\tout-bucket: nopal_results2000_97f602dc-d34a-4f98-8d37-492abfb0d83a\n",
      "Query size: 6000\n",
      "\tin-bucket: nopal_6000_1c8b7e48-482e-4a7f-a02c-0710949d5fa9\n",
      "\tout-bucket: nopal_results6000_1c8b7e48-482e-4a7f-a02c-0710949d5fa9\n",
      "Query size: 10000\n",
      "\tin-bucket: nopal_10000_7328e20f-5713-465a-b394-5739a9d08698\n",
      "\tout-bucket: nopal_results10000_7328e20f-5713-465a-b394-5739a9d08698\n"
     ]
    }
   ],
   "source": [
    "bucket_list = !aws s3 ls | awk '{print $3}'\n",
    "buckets = {}\n",
    "for q in QUERY_SIZES:\n",
    "    prefix = 'nopal-' + str(q) + '-'\n",
    "    suffix = None\n",
    "    for l in bucket_list:\n",
    "        if prefix in l:\n",
    "            suffix = l.replace('nopal-' + str(q) + '-','')\n",
    "            break\n",
    "    if suffix:\n",
    "        buckets[q] = suffix    \n",
    "\n",
    "for q in QUERY_SIZES:\n",
    "    if q not in buckets:\n",
    "        suffix = str(uuid.uuid4())\n",
    "        inbucket = 'nopal-' + str(q) + '-' + suffix\n",
    "        outbucket = 'nopal-results-' + str(q) + '-' + suffix\n",
    "        buckets[q] = suffix \n",
    "        \n",
    "        !aws s3 mb s3://{inbucket} --region {REGION}          \n",
    "        !aws s3 mb s3://{outbucket} --region {REGION}\n",
    "        if TAGFILE_S3:\n",
    "            !aws s3api put-bucket-tagging --bucket {inbucket} --tagging file://{TAGFILE_S3} \n",
    "            !aws s3api put-bucket-tagging --bucket {outbucket} --tagging file://{TAGFILE_S3} \n",
    "        !aws s3 cp {q}/fasta/ s3://{inbucket}/ --recursive\n",
    "        \n",
    "for q in buckets:\n",
    "    print('Query size: {0}\\n\\tin-bucket: nopal_{0}_{1}\\n\\tout-bucket: nopal_results{0}_{1}'.format(q, buckets[q]))"
   ]
  },
  {
   "cell_type": "markdown",
   "metadata": {},
   "source": [
    "### Creating a AWS Batch unmanaged Cluster"
   ]
  },
  {
   "cell_type": "markdown",
   "metadata": {},
   "source": [
    "### Creating an Internet gateway.\n",
    "\n",
    "https://docs.aws.amazon.com/cli/latest/reference/ec2/create-internet-gateway.html"
   ]
  },
  {
   "cell_type": "code",
   "execution_count": 148,
   "metadata": {},
   "outputs": [
    {
     "name": "stdout",
     "output_type": "stream",
     "text": [
      "Created Internet Gateway: igw-0b8d4b2312d16bd7a\n"
     ]
    }
   ],
   "source": [
    "igw = !aws ec2 describe-internet-gateways --filters Name=tag:Project,Values={PROJECT}\n",
    "igw = json.loads(''.join(igw))   \n",
    "if 'InternetGatewaysss' in igw:\n",
    "    igw = igw['InternetGateways'][0]\n",
    "    print('Using Internet Gateway: {}'.format(igw['InternetGatewayId']))\n",
    "else:\n",
    "    igw = !aws ec2 create-internet-gateway\n",
    "    igw = json.loads(''.join(igw))\n",
    "    if 'InternetGateway' in igw and 'InternetGatewayId' in igw['InternetGateway']:\n",
    "        igw = igw['InternetGateway']\n",
    "        print('Created Internet Gateway: {}'.format(igw['InternetGatewayId']))\n",
    "        if TAGFILE:\n",
    "            igw_id = igw['InternetGatewayId']\n",
    "            !aws ec2 create-tags --resources {igw_id} --cli-input-json file://{TAGFILE}"
   ]
  },
  {
   "cell_type": "markdown",
   "metadata": {},
   "source": [
    "### Creating the Amazon Virtual Private Cloud  (VPC) and all its componets\n",
    "\n",
    "* VPC: https://docs.aws.amazon.com/cli/latest/reference/ec2/create-vpc.html\n",
    "* ACL: https://docs.aws.amazon.com/cli/latest/reference/ec2/create-network-acl.html\n",
    "* Route Table: https://docs.aws.amazon.com/cli/latest/reference/ec2/create-route-table.html\n",
    "* Subnet: https://docs.aws.amazon.com/cli/latest/reference/ec2/create-subnet.html"
   ]
  },
  {
   "cell_type": "code",
   "execution_count": 149,
   "metadata": {},
   "outputs": [
    {
     "name": "stdout",
     "output_type": "stream",
     "text": [
      "No VPC, creating it ..... \n",
      "Created VPC: vpc-0ebc8e2f3df3d74b1\n",
      "Attaching IGW igw-0b8d4b2312d16bd7a to the VPC: vpc-0ebc8e2f3df3d74b1\n",
      "Tagging ACL acl-0f69ea4b8d326bb67\n",
      "IGW igw-0b8d4b2312d16bd7a attached to route rtb-0d20135d4409f03a3\n",
      "Tagging Route rtb-0d20135d4409f03a3\n",
      "Subnet subnet-0cbb1ebee20f83b7e attached to VPC vpc-0ebc8e2f3df3d74b1\n",
      "Tagging subnet subnet-0cbb1ebee20f83b7e\n"
     ]
    }
   ],
   "source": [
    "vpc = !aws ec2 describe-vpcs --filters Name=tag:Project,Values={PROJECT}\n",
    "vpc = json.loads(''.join(vpc))\n",
    "if 'Vpcs' in vpc and len(vpc['Vpcs']) > 0:\n",
    "    vpc = vpc['Vpcs'][0]\n",
    "    print('Using VPC: {}'.format(vpc['VpcId']))\n",
    "else:\n",
    "    print('No VPC, creating it ..... ')\n",
    "    vpc = !aws ec2 create-vpc --cidr-block 10.0.0.0/16 --amazon-provided-ipv6-cidr-block \n",
    "    vpc = json.loads(''.join(vpc))\n",
    "    if 'Vpc' in vpc:\n",
    "        vpc = vpc['Vpc']\n",
    "        vpc_id = vpc['VpcId']\n",
    "        print('Created VPC: {}'.format(vpc_id))\n",
    "        # adding Tags if file exists\n",
    "        if TAGFILE:        \n",
    "            !aws ec2 create-tags --resources {vpc_id} --cli-input-json file://{TAGFILE}\n",
    "\n",
    "        # Attaching igw\n",
    "        igw_id = igw['InternetGatewayId']\n",
    "        print('Attaching IGW {} to the VPC: {}'.format(igw_id, vpc_id))\n",
    "        !aws ec2 attach-internet-gateway --internet-gateway-id {igw_id} --vpc-id {vpc_id}\n",
    "\n",
    "        # Retrieving created ACL\n",
    "        acl = !aws ec2 describe-network-acls --filters Name=vpc-id,Values={vpc_id}\n",
    "        acl = json.loads(''.join(acl))\n",
    "        if 'NetworkAcls' in acl and len(acl['NetworkAcls']) == 1:\n",
    "            acl = acl['NetworkAcls'][0]\n",
    "            # adding Tags if file exists\n",
    "            if TAGFILE:                \n",
    "                acl_id = acl['NetworkAclId']\n",
    "                print('Tagging ACL {}'.format(acl_id))\n",
    "                !aws ec2 create-tags --resources {acl_id} --cli-input-json file://{TAGFILE}\n",
    "\n",
    "        # Retrieving created routes\n",
    "        route = !aws ec2 describe-route-tables --filters Name=vpc-id,Values={vpc_id}\n",
    "        route = json.loads(''.join(route))\n",
    "        if 'RouteTables' in route and len(route['RouteTables']) == 1:\n",
    "            route = route['RouteTables'][0]\n",
    "            route_id = route['RouteTableId']\n",
    "                \n",
    "            route_igw = !aws ec2 create-route --route-table-id {route_id} --destination-cidr-block 0.0.0.0/0 --gateway-id {igw_id}\n",
    "            route_igw = json.loads(''.join(route_igw))\n",
    "            if 'Return' in route_igw and route_igw['Return']:\n",
    "                print('IGW {} attached to route {}'.format(igw_id, route_id))\n",
    "            \n",
    "            # adding Tags if file exists\n",
    "            if TAGFILE:\n",
    "                print('Tagging Route {}'.format(route_id))\n",
    "                !aws ec2 create-tags --resources {route_id} --cli-input-json file://{TAGFILE}\n",
    "\n",
    "        # Creating Subnets\n",
    "        subnet = !aws ec2 create-subnet --vpc-id {vpc_id} --cidr-block 10.0.0.0/16\n",
    "        subnet = json.loads(''.join(subnet))\n",
    "        if 'Subnet' in subnet:\n",
    "            subnet = subnet['Subnet']   \n",
    "            subnet_id = subnet['SubnetId']\n",
    "            \n",
    "            print('Subnet {} attached to VPC {}'.format(subnet_id, vpc_id))\n",
    "            # adding Tags if file exists\n",
    "            if TAGFILE:\n",
    "                print('Tagging subnet {}'.format(subnet_id))\n",
    "                !aws ec2 create-tags --resources {subnet_id} --cli-input-json file://{TAGFILE}"
   ]
  },
  {
   "cell_type": "code",
   "execution_count": null,
   "metadata": {},
   "outputs": [],
   "source": []
  }
 ],
 "metadata": {
  "kernelspec": {
   "display_name": "Python 3",
   "language": "python",
   "name": "python3"
  },
  "language_info": {
   "codemirror_mode": {
    "name": "ipython",
    "version": 3
   },
   "file_extension": ".py",
   "mimetype": "text/x-python",
   "name": "python",
   "nbconvert_exporter": "python",
   "pygments_lexer": "ipython3",
   "version": "3.7.6"
  }
 },
 "nbformat": 4,
 "nbformat_minor": 4
}
